{
 "cells": [
  {
   "cell_type": "code",
   "execution_count": null,
   "id": "3baa1d3f-9d43-447c-9ac5-3329bb5f38bd",
   "metadata": {},
   "outputs": [],
   "source": [
    "import sys"
   ]
  },
  {
   "cell_type": "code",
   "execution_count": null,
   "id": "8d04dfe4-22ad-4c04-9bb3-23d5149e6829",
   "metadata": {},
   "outputs": [],
   "source": [
    "sys.path.append('/home/diego/repos@dprada/infection')"
   ]
  },
  {
   "cell_type": "code",
   "execution_count": null,
   "id": "afea0fab-7f5d-4730-abd5-a211d3aaec29",
   "metadata": {},
   "outputs": [],
   "source": [
    "import infection as inf"
   ]
  },
  {
   "cell_type": "code",
   "execution_count": null,
   "id": "a724ca25-a372-4f4e-8e12-8f9da630b747",
   "metadata": {},
   "outputs": [],
   "source": [
    "mundo_1 = inf.fabrica.Mundo(100, 200)"
   ]
  },
  {
   "cell_type": "code",
   "execution_count": null,
   "id": "115093c9-813f-4e18-9d30-ada1a81e7a9c",
   "metadata": {},
   "outputs": [],
   "source": [
    "mundo_1.mapa"
   ]
  },
  {
   "cell_type": "code",
   "execution_count": null,
   "id": "d30f4805-46f5-44dd-b37f-69fa9aed994b",
   "metadata": {},
   "outputs": [],
   "source": [
    "mundo_1.ocupacion_inicial(0.3)"
   ]
  },
  {
   "cell_type": "code",
   "execution_count": null,
   "id": "3645fc8a-c9ac-4094-8472-3a3428575ed5",
   "metadata": {},
   "outputs": [],
   "source": [
    "mundo_1.mapa"
   ]
  },
  {
   "cell_type": "code",
   "execution_count": null,
   "id": "3e7cf1d8-e8fc-42ed-a76d-c35a23ab1063",
   "metadata": {},
   "outputs": [],
   "source": [
    "import numpy as np"
   ]
  },
  {
   "cell_type": "code",
   "execution_count": null,
   "id": "7796f5ad-b001-4ed0-b5dc-337596f10750",
   "metadata": {},
   "outputs": [],
   "source": [
    "np.sum(mundo_1.mapa)"
   ]
  },
  {
   "cell_type": "code",
   "execution_count": null,
   "id": "8c30535b-d724-4023-b5a6-6b3e1112e2c8",
   "metadata": {},
   "outputs": [],
   "source": [
    "lista = []"
   ]
  },
  {
   "cell_type": "code",
   "execution_count": null,
   "id": "925fca7c-99d1-42c6-af77-76208ddc9707",
   "metadata": {},
   "outputs": [],
   "source": [
    "n_filas=4\n",
    "n_columnas=6\n",
    "n_celdas_ocupadas=4"
   ]
  },
  {
   "cell_type": "code",
   "execution_count": null,
   "id": "a74e65ce-a113-4498-a30f-1a7c7f4e135f",
   "metadata": {},
   "outputs": [],
   "source": [
    "for ii in range(0,n_filas):\n",
    "    for jj in range(0,n_columnas):\n",
    "        lista.append([ii,jj])\n",
    "\n"
   ]
  },
  {
   "cell_type": "code",
   "execution_count": null,
   "id": "2028e289-ef8e-4135-9513-35740b9bc5d8",
   "metadata": {},
   "outputs": [],
   "source": [
    "for kk in range(n_celdas_ocupadas):\n",
    "    print(lista[kk])"
   ]
  },
  {
   "cell_type": "code",
   "execution_count": null,
   "id": "a2419fac-b076-4795-beb9-57b408421df1",
   "metadata": {},
   "outputs": [],
   "source": [
    "np.random.shuffle(lista)"
   ]
  },
  {
   "cell_type": "code",
   "execution_count": null,
   "id": "af58721d-49a3-4905-8b91-111a2b3ae987",
   "metadata": {},
   "outputs": [],
   "source": [
    "lista"
   ]
  },
  {
   "cell_type": "code",
   "execution_count": null,
   "id": "f8c3867f-548f-40cf-a1b2-dc3f27341af2",
   "metadata": {},
   "outputs": [],
   "source": []
  }
 ],
 "metadata": {
  "kernelspec": {
   "display_name": "Python 3 (ipykernel)",
   "language": "python",
   "name": "python3"
  },
  "language_info": {
   "codemirror_mode": {
    "name": "ipython",
    "version": 3
   },
   "file_extension": ".py",
   "mimetype": "text/x-python",
   "name": "python",
   "nbconvert_exporter": "python",
   "pygments_lexer": "ipython3",
   "version": "3.12.9"
  }
 },
 "nbformat": 4,
 "nbformat_minor": 5
}
