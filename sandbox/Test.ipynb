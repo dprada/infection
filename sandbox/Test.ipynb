{
 "cells": [
  {
   "cell_type": "code",
   "execution_count": 2,
   "id": "f5500097-ff19-459a-a790-1dbd8040679d",
   "metadata": {},
   "outputs": [],
   "source": [
    "%load_ext autoreload\n",
    "%autoreload 2"
   ]
  },
  {
   "cell_type": "code",
   "execution_count": 3,
   "id": "17bde38a-6c83-4369-96e0-a75315b7d171",
   "metadata": {},
   "outputs": [],
   "source": [
    "from tqdm import tqdm"
   ]
  },
  {
   "cell_type": "code",
   "execution_count": 4,
   "id": "3baa1d3f-9d43-447c-9ac5-3329bb5f38bd",
   "metadata": {},
   "outputs": [],
   "source": [
    "import sys"
   ]
  },
  {
   "cell_type": "code",
   "execution_count": 5,
   "id": "8a98b414-58e9-4fd2-a3d1-d1071638793c",
   "metadata": {},
   "outputs": [],
   "source": [
    "import numpy as np"
   ]
  },
  {
   "cell_type": "code",
   "execution_count": 6,
   "id": "8d04dfe4-22ad-4c04-9bb3-23d5149e6829",
   "metadata": {},
   "outputs": [],
   "source": [
    "sys.path.append('/home/diego/repos@dprada/infection')"
   ]
  },
  {
   "cell_type": "code",
   "execution_count": 7,
   "id": "afea0fab-7f5d-4730-abd5-a211d3aaec29",
   "metadata": {},
   "outputs": [],
   "source": [
    "import infection as inf"
   ]
  },
  {
   "cell_type": "code",
   "execution_count": 8,
   "id": "f7b595dc-94cd-495f-90a3-529d1cecc3e3",
   "metadata": {},
   "outputs": [],
   "source": [
    "experimentos=[]"
   ]
  },
  {
   "cell_type": "code",
   "execution_count": 9,
   "id": "6327b506-b145-41b6-ac4b-999fbc67db99",
   "metadata": {},
   "outputs": [],
   "source": [
    "delta_ocupacion = 0.1\n",
    "n_experimentos = 100\n",
    "\n",
    "n_ocupaciones = int(1.0/delta_ocupacion)"
   ]
  },
  {
   "cell_type": "code",
   "execution_count": 10,
   "id": "52fd885a-9628-4512-a9aa-04984ddfb7ab",
   "metadata": {},
   "outputs": [
    {
     "name": "stdout",
     "output_type": "stream",
     "text": [
      "Corriendo lote: 1\n",
      "Corriendo lote: 2\n",
      "Corriendo lote: 3\n",
      "Corriendo lote: 4\n",
      "Corriendo lote: 5\n",
      "Corriendo lote: 6\n",
      "Corriendo lote: 7\n",
      "Corriendo lote: 8\n",
      "Corriendo lote: 9\n",
      "Corriendo lote: 10\n"
     ]
    }
   ],
   "source": [
    "for ii in range(1, n_ocupaciones+1):\n",
    "    print(f'Corriendo lote: {ii}')\n",
    "    ocupacion = ii*delta_ocupacion\n",
    "    lote = []\n",
    "    for jj in range(n_experimentos):\n",
    "        mundo_auxiliar = inf.fabrica.Mundo(100,200)\n",
    "        mundo_auxiliar.ocupacion_inicial(ocupacion)\n",
    "        mundo_auxiliar.infecto_paciente_cero()\n",
    "        mundo_auxiliar.propago_infeccion()\n",
    "        lote.append(mundo_auxiliar)\n",
    "    experimentos.append(lote)"
   ]
  },
  {
   "cell_type": "code",
   "execution_count": null,
   "id": "b890052a-9c72-4397-a161-80e86f3e77a5",
   "metadata": {},
   "outputs": [],
   "source": [
    "len(experimentos[6])"
   ]
  },
  {
   "cell_type": "code",
   "execution_count": 19,
   "id": "f12865a0-3dcb-4102-a985-3f9816074f1a",
   "metadata": {},
   "outputs": [],
   "source": [
    "mundo_aux = experimentos[0][80]"
   ]
  },
  {
   "cell_type": "code",
   "execution_count": 20,
   "id": "118ee817-6b94-4061-93c8-037dbdc44f8e",
   "metadata": {},
   "outputs": [
    {
     "data": {
      "text/plain": [
       "np.float64(0.001)"
      ]
     },
     "execution_count": 20,
     "metadata": {},
     "output_type": "execute_result"
    }
   ],
   "source": [
    "mundo_aux.ocupacion_infectada"
   ]
  },
  {
   "cell_type": "code",
   "execution_count": 21,
   "id": "94fd6b71-428a-4c80-8d33-a58b5ebf408f",
   "metadata": {},
   "outputs": [],
   "source": [
    "ocupaciones = []\n",
    "promedio_ocupacion_infectada = []"
   ]
  },
  {
   "cell_type": "code",
   "execution_count": 23,
   "id": "8a6360a0-6b2a-495c-b17a-6060d0372b4e",
   "metadata": {},
   "outputs": [],
   "source": [
    "for aux_lote in experimentos:\n",
    "    ocupaciones_infectadas = []\n",
    "    for aux_experimento in aux_lote:\n",
    "        ocupaciones_infectadas.append(aux_experimento.ocupacion_infectada)\n",
    "    promedio_ocupacion_infectada.append(np.mean(ocupaciones_infectadas))"
   ]
  },
  {
   "cell_type": "code",
   "execution_count": 24,
   "id": "d8239024-1bab-4d2e-bb0b-33bba0b22319",
   "metadata": {},
   "outputs": [],
   "source": [
    "ocupaciones = [ii*0.1 for ii in range(1,11)]"
   ]
  },
  {
   "cell_type": "code",
   "execution_count": 30,
   "id": "118fff8d-e118-4c78-8ef7-41bf5282f7aa",
   "metadata": {},
   "outputs": [],
   "source": [
    "from matplotlib import pyplot as plt"
   ]
  },
  {
   "cell_type": "code",
   "execution_count": 32,
   "id": "61c953e4-02b1-4b2b-8da9-b8fba45c492c",
   "metadata": {},
   "outputs": [
    {
     "data": {
      "text/plain": [
       "<matplotlib.collections.PathCollection at 0x77c2fc75baa0>"
      ]
     },
     "execution_count": 32,
     "metadata": {},
     "output_type": "execute_result"
    },
    {
     "data": {
      "image/png": "[encoded data removed]",
      "text/plain": [
       "<Figure size 640x480 with 1 Axes>"
      ]
     },
     "metadata": {},
     "output_type": "display_data"
    }
   ],
   "source": [
    "plt.scatter(ocupaciones, promedio_ocupacion_infectada)"
   ]
  },
  {
   "cell_type": "code",
   "execution_count": null,
   "id": "778467f9-7d3e-4dc4-8f78-4f2b900b7b0e",
   "metadata": {},
   "outputs": [],
   "source": []
  }
 ],
 "metadata": {
  "kernelspec": {
   "display_name": "Python 3 (ipykernel)",
   "language": "python",
   "name": "python3"
  },
  "language_info": {
   "codemirror_mode": {
    "name": "ipython",
    "version": 3
   },
   "file_extension": ".py",
   "mimetype": "text/x-python",
   "name": "python",
   "nbconvert_exporter": "python",
   "pygments_lexer": "ipython3",
   "version": "3.12.9"
  }
 },
 "nbformat": 4,
 "nbformat_minor": 5
}
