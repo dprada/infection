{
 "cells": [
  {
   "cell_type": "code",
   "execution_count": 1,
   "id": "f5500097-ff19-459a-a790-1dbd8040679d",
   "metadata": {},
   "outputs": [],
   "source": [
    "%load_ext autoreload\n",
    "%autoreload 2"
   ]
  },
  {
   "cell_type": "code",
   "execution_count": 2,
   "id": "3baa1d3f-9d43-447c-9ac5-3329bb5f38bd",
   "metadata": {},
   "outputs": [],
   "source": [
    "import sys"
   ]
  },
  {
   "cell_type": "code",
   "execution_count": 3,
   "id": "8a98b414-58e9-4fd2-a3d1-d1071638793c",
   "metadata": {},
   "outputs": [],
   "source": [
    "import numpy as np"
   ]
  },
  {
   "cell_type": "code",
   "execution_count": 4,
   "id": "8d04dfe4-22ad-4c04-9bb3-23d5149e6829",
   "metadata": {},
   "outputs": [],
   "source": [
    "sys.path.append('/home/diego/repos@dprada/infection')"
   ]
  },
  {
   "cell_type": "code",
   "execution_count": 5,
   "id": "afea0fab-7f5d-4730-abd5-a211d3aaec29",
   "metadata": {},
   "outputs": [],
   "source": [
    "import infection as inf"
   ]
  },
  {
   "cell_type": "code",
   "execution_count": 6,
   "id": "a724ca25-a372-4f4e-8e12-8f9da630b747",
   "metadata": {},
   "outputs": [],
   "source": [
    "mundo_1 = inf.fabrica.Mundo(100, 200)"
   ]
  },
  {
   "cell_type": "code",
   "execution_count": 7,
   "id": "d30f4805-46f5-44dd-b37f-69fa9aed994b",
   "metadata": {},
   "outputs": [],
   "source": [
    "mundo_1.ocupacion_inicial(0.3)"
   ]
  },
  {
   "cell_type": "code",
   "execution_count": 8,
   "id": "7796f5ad-b001-4ed0-b5dc-337596f10750",
   "metadata": {},
   "outputs": [
    {
     "data": {
      "text/plain": [
       "np.int64(6000)"
      ]
     },
     "execution_count": 8,
     "metadata": {},
     "output_type": "execute_result"
    }
   ],
   "source": [
    "mundo_1.mapa.sum()"
   ]
  },
  {
   "cell_type": "code",
   "execution_count": 9,
   "id": "6702a362-eb94-4903-b428-9abacdc003fd",
   "metadata": {},
   "outputs": [],
   "source": [
    "mundo_1.infecto_paciente_cero()"
   ]
  },
  {
   "cell_type": "code",
   "execution_count": 13,
   "id": "42934250-efd3-4456-952d-452f5035b685",
   "metadata": {},
   "outputs": [],
   "source": [
    "aux = (mundo_1.mapa==2)"
   ]
  },
  {
   "cell_type": "code",
   "execution_count": 14,
   "id": "658bded7-e675-4946-9ded-4d26211fc48d",
   "metadata": {},
   "outputs": [
    {
     "data": {
      "text/plain": [
       "np.int64(200)"
      ]
     },
     "execution_count": 14,
     "metadata": {},
     "output_type": "execute_result"
    }
   ],
   "source": [
    "aux.sum()"
   ]
  },
  {
   "cell_type": "code",
   "execution_count": null,
   "id": "f8c3867f-548f-40cf-a1b2-dc3f27341af2",
   "metadata": {},
   "outputs": [],
   "source": [
    "posibles_pacientes_cero=[]\n",
    "for ii in range(mundo_1.mapa.shape[0]):\n",
    "    for jj in range(mundo_1.mapa.shape[1]):\n",
    "        if mundo_1.mapa[ii,jj]==1:\n",
    "            posibles_pacientes_cero.append([ii,jj])"
   ]
  },
  {
   "cell_type": "code",
   "execution_count": null,
   "id": "c603e8c1-8b3f-47ef-8191-d80db53fd259",
   "metadata": {},
   "outputs": [],
   "source": [
    "nn = np.random.randint(0, len(posibles_pacientes_cero))\n",
    "paciente_cero=posibles_pacientes_cero[nn]"
   ]
  },
  {
   "cell_type": "code",
   "execution_count": null,
   "id": "e46a8be6-08fa-467c-9f72-13e97014d568",
   "metadata": {},
   "outputs": [],
   "source": [
    "paciente_cero"
   ]
  },
  {
   "cell_type": "code",
   "execution_count": null,
   "id": "7b3e6742-d6cc-467b-ac1c-8238706f3c57",
   "metadata": {},
   "outputs": [],
   "source": [
    "np.random.shuffle(posibles_pacientes_cero)"
   ]
  },
  {
   "cell_type": "code",
   "execution_count": null,
   "id": "861728d9-5f1d-4c90-8053-3ce17a72d02c",
   "metadata": {},
   "outputs": [],
   "source": [
    "posibles_pacientes_cero[0]"
   ]
  },
  {
   "cell_type": "code",
   "execution_count": null,
   "id": "fd6d7095-6776-4aa8-85a8-80e178f66cc3",
   "metadata": {},
   "outputs": [],
   "source": [
    "len(posibles_pacientes_cero)"
   ]
  },
  {
   "cell_type": "code",
   "execution_count": null,
   "id": "bbf58509-775f-4ee5-a750-6d47e464d90b",
   "metadata": {},
   "outputs": [],
   "source": [
    "np.random.randint(0,62)"
   ]
  },
  {
   "cell_type": "code",
   "execution_count": null,
   "id": "30a47d46-f25e-4854-8c3d-532b3a4e3cdc",
   "metadata": {},
   "outputs": [],
   "source": [
    "mundo_1.mapa[:,0]==1"
   ]
  },
  {
   "cell_type": "code",
   "execution_count": null,
   "id": "0d2aad78-240c-4f03-b709-d6e6753aac91",
   "metadata": {},
   "outputs": [],
   "source": []
  }
 ],
 "metadata": {
  "kernelspec": {
   "display_name": "Python 3 (ipykernel)",
   "language": "python",
   "name": "python3"
  },
  "language_info": {
   "codemirror_mode": {
    "name": "ipython",
    "version": 3
   },
   "file_extension": ".py",
   "mimetype": "text/x-python",
   "name": "python",
   "nbconvert_exporter": "python",
   "pygments_lexer": "ipython3",
   "version": "3.12.9"
  }
 },
 "nbformat": 4,
 "nbformat_minor": 5
}
