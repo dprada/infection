{
 "cells": [
  {
   "cell_type": "code",
   "execution_count": null,
   "id": "afea0fab-7f5d-4730-abd5-a211d3aaec29",
   "metadata": {},
   "outputs": [],
   "source": [
    "import infection as inf"
   ]
  },
  {
   "cell_type": "code",
   "execution_count": 1,
   "id": "d62552c5-583b-417a-860c-dd3e508c753a",
   "metadata": {},
   "outputs": [],
   "source": [
    "import numpy as np"
   ]
  },
  {
   "cell_type": "code",
   "execution_count": 2,
   "id": "29ab0850-65d5-4df0-9703-512911d5440e",
   "metadata": {},
   "outputs": [
    {
     "data": {
      "text/plain": [
       "array([[0., 0., 0., 0.],\n",
       "       [0., 0., 0., 0.],\n",
       "       [0., 0., 0., 0.]])"
      ]
     },
     "execution_count": 2,
     "metadata": {},
     "output_type": "execute_result"
    }
   ],
   "source": [
    "np.zeros((3,4))"
   ]
  },
  {
   "cell_type": "code",
   "execution_count": 40,
   "id": "eb6ca3e6-dfb6-4edf-9361-ac35a1d15bf3",
   "metadata": {},
   "outputs": [],
   "source": [
    "class Mundo:\n",
    "    \n",
    "    def __init__(self, n_columnas, n_filas):\n",
    "\n",
    "        self.numero_columnas = n_columnas\n",
    "        self.numero_filas = n_filas\n",
    "\n",
    "        self.mapa = np.zeros((n_filas, n_columnas), dtype=int)\n",
    "\n",
    "    def ocupacion_inicial(self, ocupacion):\n",
    "\n",
    "        numero_celdas_ocupadas = ocupacion * self.numero_columnas * self.numero_filas\n",
    "        numero_celdas_ocupadas = int(numero_celdas_ocupadas)\n",
    "\n",
    "        contador  = 0\n",
    "\n",
    "        while contador<numero_celdas_ocupadas:\n",
    "\n",
    "            ii = np.random.randint(0,self.numero_filas)\n",
    "            jj = np.random.randint(0,self.numero_columnas)\n",
    "\n",
    "            if (self.mapa[ii,jj]==0):\n",
    "                self.mapa[ii,jj]=1\n",
    "                contador = contador + 1"
   ]
  },
  {
   "cell_type": "code",
   "execution_count": 41,
   "id": "a724ca25-a372-4f4e-8e12-8f9da630b747",
   "metadata": {},
   "outputs": [],
   "source": [
    "mundo_1 = Mundo(100, 200)"
   ]
  },
  {
   "cell_type": "code",
   "execution_count": 42,
   "id": "115093c9-813f-4e18-9d30-ada1a81e7a9c",
   "metadata": {},
   "outputs": [
    {
     "data": {
      "text/plain": [
       "array([[0, 0, 0, ..., 0, 0, 0],\n",
       "       [0, 0, 0, ..., 0, 0, 0],\n",
       "       [0, 0, 0, ..., 0, 0, 0],\n",
       "       ...,\n",
       "       [0, 0, 0, ..., 0, 0, 0],\n",
       "       [0, 0, 0, ..., 0, 0, 0],\n",
       "       [0, 0, 0, ..., 0, 0, 0]], shape=(200, 100))"
      ]
     },
     "execution_count": 42,
     "metadata": {},
     "output_type": "execute_result"
    }
   ],
   "source": [
    "mundo_1.mapa"
   ]
  },
  {
   "cell_type": "code",
   "execution_count": 43,
   "id": "d30f4805-46f5-44dd-b37f-69fa9aed994b",
   "metadata": {},
   "outputs": [],
   "source": [
    "mundo_1.ocupacion_inicial(0.30)"
   ]
  },
  {
   "cell_type": "code",
   "execution_count": 44,
   "id": "3645fc8a-c9ac-4094-8472-3a3428575ed5",
   "metadata": {},
   "outputs": [
    {
     "data": {
      "text/plain": [
       "array([[0, 1, 0, ..., 0, 1, 0],\n",
       "       [0, 0, 0, ..., 1, 1, 0],\n",
       "       [0, 0, 1, ..., 0, 0, 1],\n",
       "       ...,\n",
       "       [0, 0, 0, ..., 1, 1, 0],\n",
       "       [0, 0, 1, ..., 0, 0, 0],\n",
       "       [0, 0, 0, ..., 1, 0, 0]], shape=(200, 100))"
      ]
     },
     "execution_count": 44,
     "metadata": {},
     "output_type": "execute_result"
    }
   ],
   "source": [
    "mundo_1.mapa"
   ]
  },
  {
   "cell_type": "code",
   "execution_count": 26,
   "id": "3e7cf1d8-e8fc-42ed-a76d-c35a23ab1063",
   "metadata": {},
   "outputs": [
    {
     "data": {
      "text/plain": [
       "0"
      ]
     },
     "execution_count": 26,
     "metadata": {},
     "output_type": "execute_result"
    }
   ],
   "source": [
    "int(0.324)"
   ]
  },
  {
   "cell_type": "code",
   "execution_count": null,
   "id": "8c30535b-d724-4023-b5a6-6b3e1112e2c8",
   "metadata": {},
   "outputs": [],
   "source": []
  }
 ],
 "metadata": {
  "kernelspec": {
   "display_name": "Python 3 (ipykernel)",
   "language": "python",
   "name": "python3"
  },
  "language_info": {
   "codemirror_mode": {
    "name": "ipython",
    "version": 3
   },
   "file_extension": ".py",
   "mimetype": "text/x-python",
   "name": "python",
   "nbconvert_exporter": "python",
   "pygments_lexer": "ipython3",
   "version": "3.12.9"
  }
 },
 "nbformat": 4,
 "nbformat_minor": 5
}
